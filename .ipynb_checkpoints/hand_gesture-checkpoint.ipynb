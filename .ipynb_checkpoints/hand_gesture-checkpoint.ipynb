{
 "cells": [
  {
   "cell_type": "markdown",
   "id": "7771b2a0",
   "metadata": {},
   "source": [
    "## import library"
   ]
  },
  {
   "cell_type": "code",
   "execution_count": 1,
   "id": "7b4f808b",
   "metadata": {},
   "outputs": [],
   "source": [
    "import mediapipe as mp\n",
    "import cv2\n",
    "\n",
    "import numpy as np\n",
    "import matplotlib.pyplot as plt"
   ]
  },
  {
   "cell_type": "code",
   "execution_count": 2,
   "id": "54f5662f",
   "metadata": {},
   "outputs": [],
   "source": [
    "hands = mp.solutions.hands\n",
    "hand_video = hands.Hands(static_image_mode=False,max_num_hands=1, min_detection_confidence=.7)\n",
    "draw = mp.solutions.drawing_utils"
   ]
  },
  {
   "cell_type": "code",
   "execution_count": 7,
   "id": "ac0a892d",
   "metadata": {},
   "outputs": [],
   "source": [
    "#instruction image\n",
    "sample_image = cv2.resize(cv2.imread(\"sample/victory-hand.jpg\"), (477,314))"
   ]
  },
  {
   "cell_type": "code",
   "execution_count": 8,
   "id": "0d62cb5a",
   "metadata": {},
   "outputs": [],
   "source": [
    "def horizontal_finger_count(fingers_tips,hand_label):\n",
    "    count = 0\n",
    "    \n",
    "    for tips in fingers_tips:\n",
    "        if hand_label == \"Right\":\n",
    "            if hand_landmarks.landmark[tips].x < hand_landmarks.landmark[tips-2].x:\n",
    "                count += 1\n",
    "        else:\n",
    "            if hand_landmarks.landmark[tips].x > hand_landmarks.landmark[tips-2].x:\n",
    "                count += 1\n",
    "    return count\n",
    "def vertical_finger_count(fingers_tips,hand_label):\n",
    "    count = 0\n",
    "    for tips in fingers_tips:\n",
    "        if hand_landmarks.landmark[tips].y < hand_landmarks.landmark[tips-2].y:\n",
    "            count += 1\n",
    "    if hand_label == \"Right\":\n",
    "        thumb_right = hand_landmarks.landmark[thumb].x < hand_landmarks.landmark[thumb - 2 ].x\n",
    "    else:\n",
    "        thumb_right = hand_landmarks.landmark[thumb].x > hand_landmarks.landmark[thumb - 2 ].x\n",
    "    return count,thumb_right"
   ]
  },
  {
   "cell_type": "code",
   "execution_count": 12,
   "id": "2da34b1c",
   "metadata": {
    "scrolled": true
   },
   "outputs": [],
   "source": [
    "#open camera\n",
    "cam = cv2.VideoCapture(0)\n",
    "\n",
    "while cam.isOpened():\n",
    "    #read camera\n",
    "    ret,frame = cam.read()\n",
    "    #flip camera\n",
    "    frame = cv2.flip(frame,1)\n",
    "    #convert image to RGB\n",
    "    rgb_img = cv2.cvtColor(frame,cv2.COLOR_BGR2RGB)\n",
    "    \n",
    "    results = hand_video.process(rgb_img)\n",
    "\n",
    "    if results.multi_hand_landmarks:\n",
    "        for hand in results.multi_hand_landmarks:\n",
    "            #draw landmark\n",
    "            draw.draw_landmarks(image = frame, landmark_list = hand,\n",
    "                                      connections = hands.HAND_CONNECTIONS,\n",
    "                                      landmark_drawing_spec=draw.DrawingSpec(color=(255,255,255),\n",
    "                                                                                   thickness=2, circle_radius=2),\n",
    "                                      connection_drawing_spec=draw.DrawingSpec(color=(0,255,0),\n",
    "                                                                                     thickness=2, circle_radius=2))\n",
    "         # Store the indexes of the tips landmarks of each finger of a hand in a list.\n",
    "        fingers_tips = [hands.HandLandmark.RING_FINGER_TIP, hands.HandLandmark.PINKY_TIP\n",
    "                        ,hands.HandLandmark.INDEX_FINGER_TIP, hands.HandLandmark.MIDDLE_FINGER_TIP]\n",
    "        thumb = hands.HandLandmark.THUMB_TIP\n",
    "        \n",
    "        if results.multi_hand_landmarks:\n",
    "            for hand_index, hand_info in enumerate(results.multi_handedness):\n",
    "                \n",
    "                hand_label = hand_info.classification[0].label\n",
    "                hand_landmarks = results.multi_hand_landmarks[hand_index]\n",
    "                \n",
    "                index_up = hand_landmarks.landmark[fingers_tips[2]].y < hand_landmarks.landmark[fingers_tips[2]-2].y\n",
    "                middel_up = hand_landmarks.landmark[fingers_tips[3]].y < hand_landmarks.landmark[fingers_tips[3]-2].y\n",
    "                ring_finger_down = hand_landmarks.landmark[fingers_tips[0]].y > hand_landmarks.landmark[fingers_tips[0]-2].y\n",
    "                pinky_finger_down = hand_landmarks.landmark[fingers_tips[1]].y > hand_landmarks.landmark[fingers_tips[1]-1].y\n",
    "                \n",
    "                thumb_up = hand_landmarks.landmark[thumb].y < hand_landmarks.landmark[thumb - 2 ].y\n",
    "                \n",
    "                \n",
    "                h_counts = horizontal_finger_count(fingers_tips,hand_label)\n",
    "                v_counts, thumb_pose = vertical_finger_count(fingers_tips,hand_label)\n",
    "                \n",
    "            if (index_up & middel_up & ring_finger_down & pinky_finger_down) == True and v_counts == 2:\n",
    "                label = \"Victory\"\n",
    "            elif ((index_up & ring_finger_down)== True) and ((middel_up & pinky_finger_down) == False) and v_counts == 2:\n",
    "                label = \"Spider_Man\"\n",
    "            elif thumb_pose == True and v_counts == 4:\n",
    "                label = \"STOP\"\n",
    "            elif (thumb_up == True) and h_counts==0:\n",
    "                label = \"Thumbs_Up\"\n",
    "            elif (thumb_up == True and index_up == False) and v_counts==3:\n",
    "                label = \"Ok\"\n",
    "            else:\n",
    "                label = \"Nothing Is Detected\"\n",
    "                frame[60:374,0:477] = sample_image\n",
    "        cv2.putText(frame,label, (50,50), cv2.FONT_HERSHEY_SIMPLEX,\n",
    "                        1.3, (0,0,255), 2, 10)    \n",
    "    cv2.imshow(\"\",frame)\n",
    "    if cv2.waitKey(1) == ord(\"q\"):\n",
    "        break\n",
    "cam.release()\n",
    "cv2.destroyAllWindows()"
   ]
  },
  {
   "cell_type": "code",
   "execution_count": null,
   "id": "f4547a71",
   "metadata": {},
   "outputs": [],
   "source": []
  }
 ],
 "metadata": {
  "kernelspec": {
   "display_name": "Python 3",
   "language": "python",
   "name": "python3"
  },
  "language_info": {
   "codemirror_mode": {
    "name": "ipython",
    "version": 3
   },
   "file_extension": ".py",
   "mimetype": "text/x-python",
   "name": "python",
   "nbconvert_exporter": "python",
   "pygments_lexer": "ipython3",
   "version": "3.9.4"
  }
 },
 "nbformat": 4,
 "nbformat_minor": 5
}
