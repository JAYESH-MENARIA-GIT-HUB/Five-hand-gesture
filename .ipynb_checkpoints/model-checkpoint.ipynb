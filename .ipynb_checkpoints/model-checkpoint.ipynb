{
 "cells": [
  {
   "cell_type": "code",
   "execution_count": 62,
   "id": "c7ca78fd",
   "metadata": {},
   "outputs": [],
   "source": [
    "import pandas as pd\n",
    "import matplotlib.pyplot as plt\n",
    "import numpy as np\n",
    "import string\n",
    "import cv2\n",
    "import json\n",
    "from tensorflow.keras.utils import to_categorical"
   ]
  },
  {
   "cell_type": "code",
   "execution_count": 63,
   "id": "d6e926fe",
   "metadata": {},
   "outputs": [],
   "source": [
    "from tensorflow.keras.layers import Dense, Dropout, Flatten, BatchNormalization, Conv2D, MaxPool2D\n",
    "from tensorflow.keras.models import Sequential, load_model\n",
    "from tensorflow.keras.callbacks import EarlyStopping"
   ]
  },
  {
   "cell_type": "code",
   "execution_count": 4,
   "id": "43910720",
   "metadata": {},
   "outputs": [],
   "source": [
    "train = pd.read_csv(\"train/sign_mnist_train.csv\")\n",
    "train_x = train.drop(\"label\",axis=1).values\n",
    "train_x = train_x.reshape(len(train_x),28,28,1)\n",
    "train_y = train[\"label\"].values\n",
    "enco_try = to_categorical(train_y)"
   ]
  },
  {
   "cell_type": "code",
   "execution_count": 5,
   "id": "1d8ff0ed",
   "metadata": {},
   "outputs": [],
   "source": [
    "test = pd.read_csv(\"test/sign_mnist_test.csv\")\n",
    "test_x = test.drop(\"label\",axis=1).values\n",
    "test_x = test_x.reshape(len(test_x),28,28,1)\n",
    "test_y = test[\"label\"].values\n",
    "enco_testy = to_categorical(test_y)"
   ]
  },
  {
   "cell_type": "code",
   "execution_count": null,
   "id": "29f71f17",
   "metadata": {},
   "outputs": [],
   "source": [
    "plt.imshow(train_x[0])"
   ]
  },
  {
   "cell_type": "code",
   "execution_count": null,
   "id": "b65c4400",
   "metadata": {},
   "outputs": [],
   "source": [
    "model = Sequential()\n",
    "\n",
    "model.add(Conv2D(filters=16,kernel_size=(3,3),input_shape=(28,28,1),activation=\"relu\"))\n",
    "model.add(MaxPool2D(2))\n",
    "\n",
    "model.add(Conv2D(filters=32,kernel_size=(3,3),activation=\"relu\"))\n",
    "model.add(MaxPool2D(2))\n",
    "\n",
    "model.add(Conv2D(filters=64,kernel_size=(3,3),activation=\"relu\"))\n",
    "model.add(MaxPool2D(2))\n",
    "\n",
    "model.add(Flatten())\n",
    "model.add(Dense(500,activation=\"relu\"))\n",
    "model.add(Dense(200,activation=\"relu\"))\n",
    "model.add(Dense(100,activation=\"relu\"))\n",
    "model.add(Dense(50,activation=\"relu\"))\n",
    "model.add(Dense(25,activation=\"softmax\"))\n",
    "\n",
    "model.compile(loss=\"CategoricalCrossentropy\",optimizer=\"adam\",metrics=[\"accuracy\"])"
   ]
  },
  {
   "cell_type": "code",
   "execution_count": null,
   "id": "893210b1",
   "metadata": {},
   "outputs": [],
   "source": [
    "model.summary()"
   ]
  },
  {
   "cell_type": "code",
   "execution_count": null,
   "id": "55cf14d1",
   "metadata": {},
   "outputs": [],
   "source": [
    "early_stop = EarlyStopping(monitor=\"val_loss\",verbose=1,patience=3)"
   ]
  },
  {
   "cell_type": "code",
   "execution_count": null,
   "id": "8339cfc3",
   "metadata": {},
   "outputs": [],
   "source": [
    "model.fit(x=train_x,y=enco_try,epochs=50,callbacks=[early_stop],validation_data=(test_x,enco_testy),)"
   ]
  },
  {
   "cell_type": "code",
   "execution_count": null,
   "id": "7af2d0e0",
   "metadata": {},
   "outputs": [],
   "source": [
    "model.save(\"model.h5\")"
   ]
  },
  {
   "cell_type": "code",
   "execution_count": null,
   "id": "34bfe76a",
   "metadata": {},
   "outputs": [],
   "source": [
    "model.evaluate(test_x,enco_testy)"
   ]
  },
  {
   "cell_type": "code",
   "execution_count": 11,
   "id": "2861d709",
   "metadata": {},
   "outputs": [],
   "source": [
    "jsoned = {}\n",
    "for idx, alpha in zip(np.unique(train_y),string.ascii_lowercase):\n",
    "    jsoned[str(idx)] = alpha"
   ]
  },
  {
   "cell_type": "code",
   "execution_count": null,
   "id": "83c12e1f",
   "metadata": {},
   "outputs": [],
   "source": [
    "with open(\"label.json\", \"w\") as outfile:\n",
    "    json.dump(jsoned, outfile)"
   ]
  },
  {
   "cell_type": "code",
   "execution_count": 3,
   "id": "df827c5b",
   "metadata": {},
   "outputs": [],
   "source": [
    "model = load_model(\"model.h5\")"
   ]
  },
  {
   "cell_type": "code",
   "execution_count": 68,
   "id": "1c71f678",
   "metadata": {},
   "outputs": [],
   "source": [
    "with open(\"label.json\", \"r\") as outfile:\n",
    "    labels = outfile.read()"
   ]
  },
  {
   "cell_type": "code",
   "execution_count": 69,
   "id": "bc27abe0",
   "metadata": {},
   "outputs": [
    {
     "data": {
      "text/plain": [
       "'{\"0\": \"A\", \"1\": \"B\", \"2\": \"C\", \"3\": \"D\", \"4\": \"E\"}'"
      ]
     },
     "execution_count": 69,
     "metadata": {},
     "output_type": "execute_result"
    }
   ],
   "source": [
    "labels"
   ]
  },
  {
   "cell_type": "code",
   "execution_count": null,
   "id": "8ad7fd56",
   "metadata": {},
   "outputs": [],
   "source": []
  },
  {
   "cell_type": "code",
   "execution_count": null,
   "id": "75fbc382",
   "metadata": {},
   "outputs": [],
   "source": []
  }
 ],
 "metadata": {
  "kernelspec": {
   "display_name": "Python 3",
   "language": "python",
   "name": "python3"
  },
  "language_info": {
   "codemirror_mode": {
    "name": "ipython",
    "version": 3
   },
   "file_extension": ".py",
   "mimetype": "text/x-python",
   "name": "python",
   "nbconvert_exporter": "python",
   "pygments_lexer": "ipython3",
   "version": "3.9.4"
  }
 },
 "nbformat": 4,
 "nbformat_minor": 5
}
